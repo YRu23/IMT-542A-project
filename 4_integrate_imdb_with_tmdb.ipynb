{
  "nbformat": 4,
  "nbformat_minor": 0,
  "metadata": {
    "colab": {
      "provenance": [],
      "authorship_tag": "ABX9TyMxWePhUdoDhzClIAbP7SfH",
      "include_colab_link": true
    },
    "kernelspec": {
      "name": "python3",
      "display_name": "Python 3"
    },
    "language_info": {
      "name": "python"
    }
  },
  "cells": [
    {
      "cell_type": "markdown",
      "metadata": {
        "id": "view-in-github",
        "colab_type": "text"
      },
      "source": [
        "<a href=\"https://colab.research.google.com/github/YRu23/IMT-542A-project/blob/Metadata/4_integrate_imdb_with_tmdb.ipynb\" target=\"_parent\"><img src=\"https://colab.research.google.com/assets/colab-badge.svg\" alt=\"Open In Colab\"/></a>"
      ]
    },
    {
      "cell_type": "code",
      "execution_count": null,
      "metadata": {
        "colab": {
          "base_uri": "https://localhost:8080/",
          "height": 90
        },
        "id": "UaA_cCdgXmw7",
        "outputId": "3abf429d-e4e8-49f6-c090-6c327117912d"
      },
      "outputs": [
        {
          "output_type": "display_data",
          "data": {
            "text/plain": [
              "<IPython.core.display.HTML object>"
            ],
            "text/html": [
              "\n",
              "     <input type=\"file\" id=\"files-6bd7edf6-f0ad-46fa-9ebd-4d3734d39666\" name=\"files[]\" multiple disabled\n",
              "        style=\"border:none\" />\n",
              "     <output id=\"result-6bd7edf6-f0ad-46fa-9ebd-4d3734d39666\">\n",
              "      Upload widget is only available when the cell has been executed in the\n",
              "      current browser session. Please rerun this cell to enable.\n",
              "      </output>\n",
              "      <script>// Copyright 2017 Google LLC\n",
              "//\n",
              "// Licensed under the Apache License, Version 2.0 (the \"License\");\n",
              "// you may not use this file except in compliance with the License.\n",
              "// You may obtain a copy of the License at\n",
              "//\n",
              "//      http://www.apache.org/licenses/LICENSE-2.0\n",
              "//\n",
              "// Unless required by applicable law or agreed to in writing, software\n",
              "// distributed under the License is distributed on an \"AS IS\" BASIS,\n",
              "// WITHOUT WARRANTIES OR CONDITIONS OF ANY KIND, either express or implied.\n",
              "// See the License for the specific language governing permissions and\n",
              "// limitations under the License.\n",
              "\n",
              "/**\n",
              " * @fileoverview Helpers for google.colab Python module.\n",
              " */\n",
              "(function(scope) {\n",
              "function span(text, styleAttributes = {}) {\n",
              "  const element = document.createElement('span');\n",
              "  element.textContent = text;\n",
              "  for (const key of Object.keys(styleAttributes)) {\n",
              "    element.style[key] = styleAttributes[key];\n",
              "  }\n",
              "  return element;\n",
              "}\n",
              "\n",
              "// Max number of bytes which will be uploaded at a time.\n",
              "const MAX_PAYLOAD_SIZE = 100 * 1024;\n",
              "\n",
              "function _uploadFiles(inputId, outputId) {\n",
              "  const steps = uploadFilesStep(inputId, outputId);\n",
              "  const outputElement = document.getElementById(outputId);\n",
              "  // Cache steps on the outputElement to make it available for the next call\n",
              "  // to uploadFilesContinue from Python.\n",
              "  outputElement.steps = steps;\n",
              "\n",
              "  return _uploadFilesContinue(outputId);\n",
              "}\n",
              "\n",
              "// This is roughly an async generator (not supported in the browser yet),\n",
              "// where there are multiple asynchronous steps and the Python side is going\n",
              "// to poll for completion of each step.\n",
              "// This uses a Promise to block the python side on completion of each step,\n",
              "// then passes the result of the previous step as the input to the next step.\n",
              "function _uploadFilesContinue(outputId) {\n",
              "  const outputElement = document.getElementById(outputId);\n",
              "  const steps = outputElement.steps;\n",
              "\n",
              "  const next = steps.next(outputElement.lastPromiseValue);\n",
              "  return Promise.resolve(next.value.promise).then((value) => {\n",
              "    // Cache the last promise value to make it available to the next\n",
              "    // step of the generator.\n",
              "    outputElement.lastPromiseValue = value;\n",
              "    return next.value.response;\n",
              "  });\n",
              "}\n",
              "\n",
              "/**\n",
              " * Generator function which is called between each async step of the upload\n",
              " * process.\n",
              " * @param {string} inputId Element ID of the input file picker element.\n",
              " * @param {string} outputId Element ID of the output display.\n",
              " * @return {!Iterable<!Object>} Iterable of next steps.\n",
              " */\n",
              "function* uploadFilesStep(inputId, outputId) {\n",
              "  const inputElement = document.getElementById(inputId);\n",
              "  inputElement.disabled = false;\n",
              "\n",
              "  const outputElement = document.getElementById(outputId);\n",
              "  outputElement.innerHTML = '';\n",
              "\n",
              "  const pickedPromise = new Promise((resolve) => {\n",
              "    inputElement.addEventListener('change', (e) => {\n",
              "      resolve(e.target.files);\n",
              "    });\n",
              "  });\n",
              "\n",
              "  const cancel = document.createElement('button');\n",
              "  inputElement.parentElement.appendChild(cancel);\n",
              "  cancel.textContent = 'Cancel upload';\n",
              "  const cancelPromise = new Promise((resolve) => {\n",
              "    cancel.onclick = () => {\n",
              "      resolve(null);\n",
              "    };\n",
              "  });\n",
              "\n",
              "  // Wait for the user to pick the files.\n",
              "  const files = yield {\n",
              "    promise: Promise.race([pickedPromise, cancelPromise]),\n",
              "    response: {\n",
              "      action: 'starting',\n",
              "    }\n",
              "  };\n",
              "\n",
              "  cancel.remove();\n",
              "\n",
              "  // Disable the input element since further picks are not allowed.\n",
              "  inputElement.disabled = true;\n",
              "\n",
              "  if (!files) {\n",
              "    return {\n",
              "      response: {\n",
              "        action: 'complete',\n",
              "      }\n",
              "    };\n",
              "  }\n",
              "\n",
              "  for (const file of files) {\n",
              "    const li = document.createElement('li');\n",
              "    li.append(span(file.name, {fontWeight: 'bold'}));\n",
              "    li.append(span(\n",
              "        `(${file.type || 'n/a'}) - ${file.size} bytes, ` +\n",
              "        `last modified: ${\n",
              "            file.lastModifiedDate ? file.lastModifiedDate.toLocaleDateString() :\n",
              "                                    'n/a'} - `));\n",
              "    const percent = span('0% done');\n",
              "    li.appendChild(percent);\n",
              "\n",
              "    outputElement.appendChild(li);\n",
              "\n",
              "    const fileDataPromise = new Promise((resolve) => {\n",
              "      const reader = new FileReader();\n",
              "      reader.onload = (e) => {\n",
              "        resolve(e.target.result);\n",
              "      };\n",
              "      reader.readAsArrayBuffer(file);\n",
              "    });\n",
              "    // Wait for the data to be ready.\n",
              "    let fileData = yield {\n",
              "      promise: fileDataPromise,\n",
              "      response: {\n",
              "        action: 'continue',\n",
              "      }\n",
              "    };\n",
              "\n",
              "    // Use a chunked sending to avoid message size limits. See b/62115660.\n",
              "    let position = 0;\n",
              "    do {\n",
              "      const length = Math.min(fileData.byteLength - position, MAX_PAYLOAD_SIZE);\n",
              "      const chunk = new Uint8Array(fileData, position, length);\n",
              "      position += length;\n",
              "\n",
              "      const base64 = btoa(String.fromCharCode.apply(null, chunk));\n",
              "      yield {\n",
              "        response: {\n",
              "          action: 'append',\n",
              "          file: file.name,\n",
              "          data: base64,\n",
              "        },\n",
              "      };\n",
              "\n",
              "      let percentDone = fileData.byteLength === 0 ?\n",
              "          100 :\n",
              "          Math.round((position / fileData.byteLength) * 100);\n",
              "      percent.textContent = `${percentDone}% done`;\n",
              "\n",
              "    } while (position < fileData.byteLength);\n",
              "  }\n",
              "\n",
              "  // All done.\n",
              "  yield {\n",
              "    response: {\n",
              "      action: 'complete',\n",
              "    }\n",
              "  };\n",
              "}\n",
              "\n",
              "scope.google = scope.google || {};\n",
              "scope.google.colab = scope.google.colab || {};\n",
              "scope.google.colab._files = {\n",
              "  _uploadFiles,\n",
              "  _uploadFilesContinue,\n",
              "};\n",
              "})(self);\n",
              "</script> "
            ]
          },
          "metadata": {}
        },
        {
          "output_type": "stream",
          "name": "stdout",
          "text": [
            "Saving tmdb_score.csv to tmdb_score.csv\n",
            "User uploaded file \"tmdb_score.csv\" with length 32477153 bytes\n"
          ]
        }
      ],
      "source": [
        "from google.colab import files\n",
        "\n",
        "# Upload the files\n",
        "uploaded = files.upload()\n",
        "\n",
        "# List the uploaded files\n",
        "for filename in uploaded.keys():\n",
        "    print(f'User uploaded file \"{filename}\" with length {len(uploaded[filename])} bytes')\n"
      ]
    },
    {
      "cell_type": "code",
      "source": [
        "import pandas as pd\n",
        "\n",
        "# Load the CSV files into DataFrames\n",
        "file_path_imdb = '/content/imdb_scores.csv'\n",
        "file_path_tmdb = '/content/tmdb_score.csv'\n",
        "\n",
        "df_imdb = pd.read_csv(file_path_imdb)\n",
        "df_tmdb = pd.read_csv(file_path_tmdb)\n",
        "\n",
        "# Inspect the columns of each DataFrame\n",
        "print(\"Columns in imdb_scores.csv:\")\n",
        "print(df_imdb.columns)\n",
        "\n",
        "print(\"\\nColumns in tmdb_score.csv:\")\n",
        "print(df_tmdb.columns)\n",
        "\n",
        "# Display the first few rows of each DataFrame to understand their structure\n",
        "print(\"\\nFirst few rows of imdb_scores.csv:\")\n",
        "print(df_imdb.head())\n",
        "\n",
        "print(\"\\nFirst few rows of tmdb_score.csv:\")\n",
        "print(df_tmdb.head())\n"
      ],
      "metadata": {
        "colab": {
          "base_uri": "https://localhost:8080/"
        },
        "id": "Nl1Bm6VoX5m3",
        "outputId": "23156c43-f6b2-4652-83d5-64d6a855dd74"
      },
      "execution_count": null,
      "outputs": [
        {
          "output_type": "stream",
          "name": "stdout",
          "text": [
            "Columns in imdb_scores.csv:\n",
            "Index(['imdb id', 'Movie title', 'Year', 'genres', 'IMDb score', 'director1',\n",
            "       'director2'],\n",
            "      dtype='object')\n",
            "\n",
            "Columns in tmdb_score.csv:\n",
            "Index(['Movie title', 'tmdb score', 'imdb id'], dtype='object')\n",
            "\n",
            "First few rows of imdb_scores.csv:\n",
            "     imdb id                                        Movie title    Year  \\\n",
            "0  tt0013274                        Istoriya grazhdanskoy voyny  2021.0   \n",
            "1  tt0015414                             La tierra de los toros  2000.0   \n",
            "2  tt0035423                                     Kate & Leopold  2001.0   \n",
            "3  tt0062336  The Tango of the Widower and Its Distorting Mi...  2020.0   \n",
            "4  tt0069049                         The Other Side of the Wind  2018.0   \n",
            "\n",
            "                   genres  IMDb score        director1          director2  \n",
            "0             Documentary         6.8  Nikolai Izvolov       Dziga Vertov  \n",
            "1                      \\N         5.4         Musidora                NaN  \n",
            "2  Comedy,Fantasy,Romance         6.4    James Mangold                NaN  \n",
            "3                   Drama         6.4       Ra√∫l Ruiz  Valeria Sarmiento  \n",
            "4                   Drama         6.7     Orson Welles                NaN  \n",
            "\n",
            "First few rows of tmdb_score.csv:\n",
            "       Movie title  tmdb score    imdb id\n",
            "0        Inception       8.364  tt1375666\n",
            "1     Interstellar       8.417  tt0816692\n",
            "2  The Dark Knight       8.512  tt0468569\n",
            "3           Avatar       7.573  tt0499549\n",
            "4     The Avengers       7.710  tt0848228\n"
          ]
        }
      ]
    },
    {
      "cell_type": "code",
      "source": [
        "# Rename columns to ensure consistency (if needed)\n",
        "df_tmdb.rename(columns={'imdb id': 'imdb id', 'tmdb score': 'tmdb score'}, inplace=True)\n",
        "\n",
        "# Merge the DataFrames on 'imdb id'\n",
        "final_merged_df = pd.merge(df_imdb, df_tmdb[['imdb id', 'tmdb score']], on='imdb id', how='inner')\n",
        "\n",
        "# Keep only the required columns: 'imdb id', 'Movie title', 'Year', 'genres', 'director1', 'director2', 'IMDb score', 'tmdb score'\n",
        "final_df = final_merged_df[['imdb id', 'Movie title', 'Year', 'genres', 'director1', 'director2', 'IMDb score', 'tmdb score']]\n",
        "\n",
        "# Display the final DataFrame\n",
        "print(\"Final DataFrame:\")\n",
        "print(final_df.head())"
      ],
      "metadata": {
        "colab": {
          "base_uri": "https://localhost:8080/"
        },
        "id": "kx6e9wF9aE3F",
        "outputId": "dfa8c1e3-110c-4891-dfce-1047da94a722"
      },
      "execution_count": null,
      "outputs": [
        {
          "output_type": "stream",
          "name": "stdout",
          "text": [
            "Final DataFrame:\n",
            "     imdb id                                        Movie title    Year  \\\n",
            "0  tt0013274                        Istoriya grazhdanskoy voyny  2021.0   \n",
            "1  tt0015414                             La tierra de los toros  2000.0   \n",
            "2  tt0035423                                     Kate & Leopold  2001.0   \n",
            "3  tt0062336  The Tango of the Widower and Its Distorting Mi...  2020.0   \n",
            "4  tt0069049                         The Other Side of the Wind  2018.0   \n",
            "\n",
            "                   genres        director1          director2  IMDb score  \\\n",
            "0             Documentary  Nikolai Izvolov       Dziga Vertov         6.8   \n",
            "1                      \\N         Musidora                NaN         5.4   \n",
            "2  Comedy,Fantasy,Romance    James Mangold                NaN         6.4   \n",
            "3                   Drama       Ra√∫l Ruiz  Valeria Sarmiento         6.4   \n",
            "4                   Drama     Orson Welles                NaN         6.7   \n",
            "\n",
            "   tmdb score  \n",
            "0       6.000  \n",
            "1       0.000  \n",
            "2       6.328  \n",
            "3       6.167  \n",
            "4       6.698  \n"
          ]
        }
      ]
    },
    {
      "cell_type": "code",
      "source": [
        "# Save the final DataFrame to a new CSV file named 'movie_score.csv'\n",
        "final_df.to_csv('movie_score_imdb_tmdb.csv', index=False)\n",
        "\n",
        "# Download the final CSV file\n",
        "files.download('movie_score_imdb_tmdb.csv')"
      ],
      "metadata": {
        "colab": {
          "base_uri": "https://localhost:8080/",
          "height": 17
        },
        "id": "EXrrvp_-acCv",
        "outputId": "2941c0b4-863d-493e-9793-877392c5b33e"
      },
      "execution_count": null,
      "outputs": [
        {
          "output_type": "display_data",
          "data": {
            "text/plain": [
              "<IPython.core.display.Javascript object>"
            ],
            "application/javascript": [
              "\n",
              "    async function download(id, filename, size) {\n",
              "      if (!google.colab.kernel.accessAllowed) {\n",
              "        return;\n",
              "      }\n",
              "      const div = document.createElement('div');\n",
              "      const label = document.createElement('label');\n",
              "      label.textContent = `Downloading \"${filename}\": `;\n",
              "      div.appendChild(label);\n",
              "      const progress = document.createElement('progress');\n",
              "      progress.max = size;\n",
              "      div.appendChild(progress);\n",
              "      document.body.appendChild(div);\n",
              "\n",
              "      const buffers = [];\n",
              "      let downloaded = 0;\n",
              "\n",
              "      const channel = await google.colab.kernel.comms.open(id);\n",
              "      // Send a message to notify the kernel that we're ready.\n",
              "      channel.send({})\n",
              "\n",
              "      for await (const message of channel.messages) {\n",
              "        // Send a message to notify the kernel that we're ready.\n",
              "        channel.send({})\n",
              "        if (message.buffers) {\n",
              "          for (const buffer of message.buffers) {\n",
              "            buffers.push(buffer);\n",
              "            downloaded += buffer.byteLength;\n",
              "            progress.value = downloaded;\n",
              "          }\n",
              "        }\n",
              "      }\n",
              "      const blob = new Blob(buffers, {type: 'application/binary'});\n",
              "      const a = document.createElement('a');\n",
              "      a.href = window.URL.createObjectURL(blob);\n",
              "      a.download = filename;\n",
              "      div.appendChild(a);\n",
              "      a.click();\n",
              "      div.remove();\n",
              "    }\n",
              "  "
            ]
          },
          "metadata": {}
        },
        {
          "output_type": "display_data",
          "data": {
            "text/plain": [
              "<IPython.core.display.Javascript object>"
            ],
            "application/javascript": [
              "download(\"download_c2a725a4-5e06-4881-bb57-7fb3c751f3ed\", \"movie_score.csv\", 1779033)"
            ]
          },
          "metadata": {}
        }
      ]
    }
  ]
}